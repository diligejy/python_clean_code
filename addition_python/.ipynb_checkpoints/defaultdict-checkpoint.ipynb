{
 "cells": [
  {
   "cell_type": "code",
   "execution_count": null,
   "metadata": {},
   "outputs": [],
   "source": [
    "# https://dongdongfather.tistory.com/69"
   ]
  },
  {
   "cell_type": "code",
   "execution_count": 2,
   "metadata": {},
   "outputs": [
    {
     "data": {
      "text/plain": [
       "defaultdict(int, {})"
      ]
     },
     "execution_count": 2,
     "metadata": {},
     "output_type": "execute_result"
    }
   ],
   "source": [
    "# defaultdict() -> 인자로 주어진 객체(default-factory)의 기본값을 딕셔너리값의 초깃값으로 지정할 수 있음\n",
    "from collections import defaultdict\n",
    "\n",
    "# default값이 int인 딕셔너리\n",
    "int_dict = defaultdict(int)\n",
    "int_dict"
   ]
  },
  {
   "cell_type": "code",
   "execution_count": 3,
   "metadata": {},
   "outputs": [
    {
     "data": {
      "text/plain": [
       "0"
      ]
     },
     "execution_count": 3,
     "metadata": {},
     "output_type": "execute_result"
    }
   ],
   "source": [
    "# 값을 지정하지 않은 키는 값이 0으로 지정됨\n",
    "int_dict['key1']"
   ]
  },
  {
   "cell_type": "code",
   "execution_count": 4,
   "metadata": {},
   "outputs": [
    {
     "data": {
      "text/plain": [
       "defaultdict(int, {'key1': 0})"
      ]
     },
     "execution_count": 4,
     "metadata": {},
     "output_type": "execute_result"
    }
   ],
   "source": [
    "int_dict"
   ]
  },
  {
   "cell_type": "code",
   "execution_count": 5,
   "metadata": {},
   "outputs": [
    {
     "data": {
      "text/plain": [
       "defaultdict(int, {'key1': 0, 'key2': 'test'})"
      ]
     },
     "execution_count": 5,
     "metadata": {},
     "output_type": "execute_result"
    }
   ],
   "source": [
    "# 키에 명시적으로 값을 지정하게 되면 그 값이 지정됨\n",
    "int_dict['key2'] = 'test'\n",
    "int_dict"
   ]
  },
  {
   "cell_type": "code",
   "execution_count": 6,
   "metadata": {},
   "outputs": [
    {
     "data": {
      "text/plain": [
       "defaultdict(list, {})"
      ]
     },
     "execution_count": 6,
     "metadata": {},
     "output_type": "execute_result"
    }
   ],
   "source": [
    "# default값으로 list를 줬을 때 작동방식\n",
    "list_dict = defaultdict(list)\n",
    "list_dict"
   ]
  },
  {
   "cell_type": "code",
   "execution_count": 7,
   "metadata": {},
   "outputs": [
    {
     "data": {
      "text/plain": [
       "[]"
      ]
     },
     "execution_count": 7,
     "metadata": {},
     "output_type": "execute_result"
    }
   ],
   "source": [
    "# 값을 지정하지 않으면 빈 리스트로 초기화\n",
    "list_dict['key1']"
   ]
  },
  {
   "cell_type": "code",
   "execution_count": 10,
   "metadata": {},
   "outputs": [
    {
     "data": {
      "text/plain": [
       "defaultdict(list, {'key1': [], 'key2': 'test'})"
      ]
     },
     "execution_count": 10,
     "metadata": {},
     "output_type": "execute_result"
    }
   ],
   "source": [
    "# 값을 지정하면 해당값으로 초기화\n",
    "list_dict['key2'] = 'test'\n",
    "list_dict"
   ]
  },
  {
   "cell_type": "code",
   "execution_count": 11,
   "metadata": {},
   "outputs": [
    {
     "data": {
      "text/plain": [
       "defaultdict(set, {})"
      ]
     },
     "execution_count": 11,
     "metadata": {},
     "output_type": "execute_result"
    }
   ],
   "source": [
    "# default값으로 set을 줬을 때 작동방식\n",
    "set_dict = defaultdict(set)\n",
    "set_dict"
   ]
  },
  {
   "cell_type": "code",
   "execution_count": 12,
   "metadata": {},
   "outputs": [
    {
     "data": {
      "text/plain": [
       "set()"
      ]
     },
     "execution_count": 12,
     "metadata": {},
     "output_type": "execute_result"
    }
   ],
   "source": [
    "# 값을 지정하지 않으면 빈 set으로 초기화\n",
    "set_dict['key1']"
   ]
  },
  {
   "cell_type": "code",
   "execution_count": 13,
   "metadata": {},
   "outputs": [],
   "source": [
    "# 값을 지정하면 해당값으로 초기화\n",
    "set_dict['key2'] = 'test'"
   ]
  },
  {
   "cell_type": "code",
   "execution_count": 14,
   "metadata": {},
   "outputs": [
    {
     "data": {
      "text/plain": [
       "defaultdict(set, {'key1': set(), 'key2': 'test'})"
      ]
     },
     "execution_count": 14,
     "metadata": {},
     "output_type": "execute_result"
    }
   ],
   "source": [
    "set_dict"
   ]
  },
  {
   "cell_type": "markdown",
   "metadata": {},
   "source": [
    "## 언제 defaultdict()를 사용하는가?\n",
    "\n",
    "- 키의 개수를 세야 하는 상황\n",
    "- 리스트나 셋의 항목을 정리해야 하는 상황"
   ]
  },
  {
   "cell_type": "markdown",
   "metadata": {},
   "source": [
    "### defaultdict(int) 활용 예제"
   ]
  },
  {
   "cell_type": "code",
   "execution_count": 15,
   "metadata": {},
   "outputs": [
    {
     "data": {
      "text/plain": [
       "defaultdict(int,\n",
       "            {'d': 2,\n",
       "             'o': 2,\n",
       "             'n': 2,\n",
       "             'g': 2,\n",
       "             'f': 1,\n",
       "             'a': 1,\n",
       "             't': 1,\n",
       "             'h': 1,\n",
       "             'e': 1,\n",
       "             'r': 1})"
      ]
     },
     "execution_count": 15,
     "metadata": {},
     "output_type": "execute_result"
    }
   ],
   "source": [
    "letters = 'dongdongfather'\n",
    "letters_dict = defaultdict(int)\n",
    "for k in letters:\n",
    "    letters_dict[k] += 1 # 키에 대한 값이 없으면 값을 0으로 초기화\n",
    "    \n",
    "letters_dict"
   ]
  },
  {
   "cell_type": "markdown",
   "metadata": {},
   "source": [
    "### defaultdict()를 사용하지 않을 때 "
   ]
  },
  {
   "cell_type": "code",
   "execution_count": 16,
   "metadata": {},
   "outputs": [
    {
     "data": {
      "text/plain": [
       "{'d': 2,\n",
       " 'o': 2,\n",
       " 'n': 2,\n",
       " 'g': 2,\n",
       " 'f': 1,\n",
       " 'a': 1,\n",
       " 't': 1,\n",
       " 'h': 1,\n",
       " 'e': 1,\n",
       " 'r': 1}"
      ]
     },
     "execution_count": 16,
     "metadata": {},
     "output_type": "execute_result"
    }
   ],
   "source": [
    "letters = 'dongdongfather'\n",
    "letters_dict = {}\n",
    "for k in letters:\n",
    "    if not k in letters_dict: # 키가 있는지 확인\n",
    "        letters_dict[k] = 0 # 없으면 0으로 할당\n",
    "    letters_dict[k] += 1\n",
    "letters_dict"
   ]
  },
  {
   "cell_type": "markdown",
   "metadata": {},
   "source": [
    "### defaultdict(list)활용 예제"
   ]
  },
  {
   "cell_type": "code",
   "execution_count": 19,
   "metadata": {},
   "outputs": [
    {
     "data": {
      "text/plain": [
       "defaultdict(list,\n",
       "            {'kim': ['sungsu', 'yuna'],\n",
       "             'kang': ['hodong'],\n",
       "             'park': ['jisung', 'chanho']})"
      ]
     },
     "execution_count": 19,
     "metadata": {},
     "output_type": "execute_result"
    }
   ],
   "source": [
    "name_list = [('kim', 'sungsu'), ('kang', 'hodong'), ('park', 'jisung'), ('kim', 'yuna'), ('park', 'chanho')]\n",
    "ndict = defaultdict(list)\n",
    "\n",
    "for k, v in name_list: # 리스트 요소가 tuple이니까 k, v 값 할당\n",
    "    ndict[k].append(v)\n",
    "\n",
    "ndict"
   ]
  },
  {
   "cell_type": "code",
   "execution_count": 20,
   "metadata": {},
   "outputs": [
    {
     "data": {
      "text/plain": [
       "[]"
      ]
     },
     "execution_count": 20,
     "metadata": {},
     "output_type": "execute_result"
    }
   ],
   "source": [
    "ndict['o']"
   ]
  },
  {
   "cell_type": "markdown",
   "metadata": {},
   "source": [
    "### defaultdict(set)활용 예제"
   ]
  },
  {
   "cell_type": "code",
   "execution_count": 21,
   "metadata": {},
   "outputs": [
    {
     "data": {
      "text/plain": [
       "defaultdict(set,\n",
       "            {'kim': {'sungsu', 'yuna'},\n",
       "             'kang': {'hodong'},\n",
       "             'park': {'chanho', 'jisung'}})"
      ]
     },
     "execution_count": 21,
     "metadata": {},
     "output_type": "execute_result"
    }
   ],
   "source": [
    "name_list = [('kim', 'sungsu'), ('kang', 'hodong'), ('park', 'jisung'), ('kim', 'yuna'), ('park', 'chanho')]\n",
    "nset = defaultdict(set)\n",
    "\n",
    "for k, v in name_list:\n",
    "    nset[k].add(v)\n",
    "\n",
    "nset"
   ]
  },
  {
   "cell_type": "code",
   "execution_count": null,
   "metadata": {},
   "outputs": [],
   "source": []
  }
 ],
 "metadata": {
  "interpreter": {
   "hash": "c1625953ae4ea2321ee09332866414f245ff242803a94b8e55051c35d3d5ef94"
  },
  "kernelspec": {
   "display_name": "Python 3",
   "language": "python",
   "name": "python3"
  },
  "language_info": {
   "codemirror_mode": {
    "name": "ipython",
    "version": 3
   },
   "file_extension": ".py",
   "mimetype": "text/x-python",
   "name": "python",
   "nbconvert_exporter": "python",
   "pygments_lexer": "ipython3",
   "version": "3.8.8"
  }
 },
 "nbformat": 4,
 "nbformat_minor": 4
}
