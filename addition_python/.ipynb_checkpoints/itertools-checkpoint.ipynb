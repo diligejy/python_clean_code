{
 "cells": [
  {
   "cell_type": "markdown",
   "id": "d7f799f6-5b1a-4750-9ed7-95e9669f4d07",
   "metadata": {},
   "source": [
    "## itertools\n",
    "\n",
    "- Python 에서 제공하는 자신만의 반복자를 만드는 훌륭한 모듈 \n",
    "- 모듈은 APL, Haskell 및 SML의 구성 요소에서 영감을 받은 반복기 빌딩 블록을 구현하며 각각은 파이썬에 적합한 형태로 재 작성\n",
    "\n"
   ]
  },
  {
   "cell_type": "code",
   "execution_count": 1,
   "id": "2be739eb-6b89-44e5-b7f1-5885fa70f681",
   "metadata": {},
   "outputs": [],
   "source": [
    "import itertools"
   ]
  },
  {
   "cell_type": "markdown",
   "id": "8338892f-8fb6-46fd-ab30-e25a3607d418",
   "metadata": {},
   "source": [
    "### chain\n",
    "\n",
    "- iterator(list, tuple, iterables)를 쭉 연결"
   ]
  },
  {
   "cell_type": "code",
   "execution_count": 3,
   "id": "6264bfc3-dd43-4132-83ec-cc0ab73c132e",
   "metadata": {},
   "outputs": [
    {
     "name": "stdout",
     "output_type": "stream",
     "text": [
      "['a', 'b', 'c', 'd', 'e', 'f', 1, 0, 1, 0, 0, 1, 0.1, 0.7, 0.4, 0.4, 0.5]\n"
     ]
    }
   ],
   "source": [
    "letters = ['a', 'b', 'c', 'd', 'e', 'f']\n",
    "booleans = [1, 0, 1, 0, 0, 1]\n",
    "decimals = [0.1, 0.7, 0.4, 0.4, 0.5]\n",
    "\n",
    "print(list(itertools.chain(letters, booleans, decimals)))"
   ]
  },
  {
   "cell_type": "code",
   "execution_count": 4,
   "id": "45d9b8a7-057c-4684-93ac-5f2d60ee07c8",
   "metadata": {},
   "outputs": [
    {
     "name": "stdout",
     "output_type": "stream",
     "text": [
      "['a', 'b', 'c', 'd', 'e', 'f', 1, 0, 1, 0, 0, 1, 0.1, 0.7, 0.4, 0.4, 0.5]\n"
     ]
    }
   ],
   "source": [
    "letters = ['a', 'b', 'c', 'd', 'e', 'f']\n",
    "booleans = (1, 0, 1, 0, 0, 1)\n",
    "decimals = [0.1, 0.7, 0.4, 0.4, 0.5]\n",
    "\n",
    "print(list(itertools.chain(letters, booleans, decimals)))"
   ]
  },
  {
   "cell_type": "markdown",
   "id": "834c5538-8f0e-4731-9027-4b76646e65bc",
   "metadata": {},
   "source": [
    "### groupby\n",
    "\n",
    "- iterable에서 연속적인 키와 그룹을 반환하는 이터레이터를 만듬\n",
    "- key는 각 요소의 키값을 계산하는 함수\n",
    "- 지정되지 않거나 None이면, key의 기본값은 항등함수(identity function)이고 요소를 변경하지 않고 반환\n",
    "- 일반적으로, iterable은 같은 키 함수로 이미 정렬되어 있어야 함\n",
    "\n",
    "- groupby()의 작동은 유닉스의 uniq 필터와 유사 \n",
    "- 키 함수의 값이 변경될 때마다 중단(break)이나 새 그룹을 생성(이것이 일반적으로 같은 키 함수를 사용하여 데이터를 정렬해야 하는 이유입니다)\n",
    "- iterable을 key값으로 분류한 결과를 리턴하는 함수\n",
    "\n",
    "- https://wikidocs.net/108940"
   ]
  },
  {
   "cell_type": "code",
   "execution_count": 7,
   "id": "bd5fa1a3-c4bb-45fd-b536-1130c79a33e9",
   "metadata": {},
   "outputs": [
    {
     "name": "stdout",
     "output_type": "stream",
     "text": [
      "{'dan': [87, 100], 'erik': [95, 97], 'jason': [79]}\n"
     ]
    }
   ],
   "source": [
    "from operator import itemgetter\n",
    "from itertools import groupby\n",
    "\n",
    "attempts = [\n",
    "    ('dan', 87),\n",
    "    ('erik', 95),\n",
    "    ('jason', 79),\n",
    "    ('erik', 97),\n",
    "    ('dan', 100)\n",
    "]\n",
    "\n",
    "# Sort the list by name for groupby\n",
    "attempts.sort(key=itemgetter(0))\n",
    "\n",
    "# Create a dictionary such that name: scores_list\n",
    "print({key: sorted(map(itemgetter(1), value)) for key, value in groupby(attempts, key=itemgetter(0))})\n",
    "# {'dan': [87, 100], 'jason': [79], 'erik': [95, 97]}\n"
   ]
  },
  {
   "cell_type": "code",
   "execution_count": 14,
   "id": "1599a6a2-7670-4a9e-81d8-73c611207520",
   "metadata": {},
   "outputs": [
    {
     "data": {
      "text/plain": [
       "['A', 'B', 'C', 'D', 'A', 'B']"
      ]
     },
     "execution_count": 14,
     "metadata": {},
     "output_type": "execute_result"
    }
   ],
   "source": [
    "[k for k, g in groupby('AAAABBBCCDAABBB')] #--> A B C D A B"
   ]
  },
  {
   "cell_type": "code",
   "execution_count": 15,
   "id": "1475ec84-ac5c-4c7e-8b30-250bd2dc4677",
   "metadata": {},
   "outputs": [
    {
     "data": {
      "text/plain": [
       "[['A', 'A', 'A', 'A'], ['B', 'B', 'B'], ['C', 'C'], ['D']]"
      ]
     },
     "execution_count": 15,
     "metadata": {},
     "output_type": "execute_result"
    }
   ],
   "source": [
    "[list(g) for k, g in groupby('AAAABBBCCD')]  #--> AAAA BBB CC D"
   ]
  },
  {
   "cell_type": "code",
   "execution_count": 16,
   "id": "48209bbc-dab9-4e8f-ae42-082c5d87c212",
   "metadata": {},
   "outputs": [],
   "source": [
    "data = [\n",
    "    {'name': '이민서', 'blood': 'O'},\n",
    "    {'name': '이영순', 'blood': 'B'},\n",
    "    {'name': '이상호', 'blood': 'AB'},\n",
    "    {'name': '김지민', 'blood': 'B'},\n",
    "    {'name': '최상현', 'blood': 'AB'},\n",
    "    {'name': '김지아', 'blood': 'A'},\n",
    "    {'name': '손우진', 'blood': 'A'},\n",
    "    {'name': '박은주', 'blood': 'A'}\n",
    "]"
   ]
  },
  {
   "cell_type": "code",
   "execution_count": 17,
   "id": "b54d67df-a7b2-42fd-9418-75c43b07ffa1",
   "metadata": {},
   "outputs": [],
   "source": [
    "import operator\n",
    "data = sorted(data, key=operator.itemgetter('blood'))"
   ]
  },
  {
   "cell_type": "code",
   "execution_count": 20,
   "id": "135d73ef-4f50-49e1-b4c2-9a62ebbf41c2",
   "metadata": {},
   "outputs": [
    {
     "name": "stdout",
     "output_type": "stream",
     "text": [
      "[{'blood': 'A', 'name': '김지아'},\n",
      " {'blood': 'A', 'name': '손우진'},\n",
      " {'blood': 'A', 'name': '박은주'},\n",
      " {'blood': 'AB', 'name': '이상호'},\n",
      " {'blood': 'AB', 'name': '최상현'},\n",
      " {'blood': 'B', 'name': '이영순'},\n",
      " {'blood': 'B', 'name': '김지민'},\n",
      " {'blood': 'O', 'name': '이민서'}]\n"
     ]
    }
   ],
   "source": [
    "import pprint\n",
    "pprint.pprint(data)"
   ]
  },
  {
   "cell_type": "code",
   "execution_count": 21,
   "id": "e8c09779-b6ac-4416-a96f-39f45ccec994",
   "metadata": {},
   "outputs": [],
   "source": [
    "import itertools\n",
    "grouped_data = itertools.groupby(data, key=operator.itemgetter('blood'))"
   ]
  },
  {
   "cell_type": "code",
   "execution_count": 22,
   "id": "6651d7d0-7d16-448c-a95e-2250dc467bdb",
   "metadata": {},
   "outputs": [
    {
     "data": {
      "text/plain": [
       "<itertools.groupby at 0x7f8fe00a8810>"
      ]
     },
     "execution_count": 22,
     "metadata": {},
     "output_type": "execute_result"
    }
   ],
   "source": [
    "grouped_data"
   ]
  },
  {
   "cell_type": "code",
   "execution_count": null,
   "id": "3d1e5416-786a-41cc-9153-8022f5924560",
   "metadata": {},
   "outputs": [],
   "source": []
  }
 ],
 "metadata": {
  "kernelspec": {
   "display_name": "Python 3",
   "language": "python",
   "name": "python3"
  },
  "language_info": {
   "codemirror_mode": {
    "name": "ipython",
    "version": 3
   },
   "file_extension": ".py",
   "mimetype": "text/x-python",
   "name": "python",
   "nbconvert_exporter": "python",
   "pygments_lexer": "ipython3",
   "version": "3.8.8"
  }
 },
 "nbformat": 4,
 "nbformat_minor": 5
}
