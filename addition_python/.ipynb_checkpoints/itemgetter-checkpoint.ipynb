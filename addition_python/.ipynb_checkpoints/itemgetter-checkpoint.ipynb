{
 "cells": [
  {
   "cell_type": "code",
   "execution_count": 1,
   "id": "3d0ea95d-c19b-431c-b515-8873a31163b9",
   "metadata": {},
   "outputs": [],
   "source": [
    "# 다중 수준의 정렬을 위해 itemgetter 사용\n",
    "from operator import itemgetter"
   ]
  },
  {
   "cell_type": "code",
   "execution_count": 3,
   "id": "343852de-ea71-4289-9e9f-215baa715e6b",
   "metadata": {},
   "outputs": [
    {
     "name": "stdout",
     "output_type": "stream",
     "text": [
      "('jin', 3, 333)\n",
      "('bang', 23, 444)\n",
      "('hansj', 31, 111)\n",
      "('kim', 32, 222)\n",
      "('an', 34, 666)\n",
      "\n",
      "('an', 34, 666)\n",
      "('bang', 23, 444)\n",
      "('hansj', 31, 111)\n",
      "('jin', 3, 333)\n",
      "('kim', 32, 222)\n"
     ]
    }
   ],
   "source": [
    "data = [ (\"hansj\", 31, 111), (\"kim\", 32, 222), (\"an\", 34, 666), (\"bang\", 23, 444), (\"jin\", 3, 333), ] \n",
    "for name in sorted(data, key=itemgetter(1)): \n",
    "    print(name) \n",
    "print() \n",
    "for name in sorted(data, key=itemgetter(0)): \n",
    "    print(name)\n"
   ]
  },
  {
   "cell_type": "code",
   "execution_count": 4,
   "id": "19830aef-09a8-4f51-a91d-aa7f41fa8057",
   "metadata": {},
   "outputs": [
    {
     "name": "stdout",
     "output_type": "stream",
     "text": [
      "[('sally', 17, 'B'), ('jane', 22, 'A'), ('dave', 32, 'B')]\n"
     ]
    }
   ],
   "source": [
    "from operator import itemgetter\n",
    "\n",
    "students = [\n",
    "    (\"jane\", 22, 'A'),\n",
    "    (\"dave\", 32, 'B'),\n",
    "    (\"sally\", 17, 'B'),\n",
    "]\n",
    "\n",
    "result = sorted(students, key=itemgetter(1))\n",
    "print(result)"
   ]
  },
  {
   "cell_type": "code",
   "execution_count": 5,
   "id": "ed04e5f8-7a46-4496-9d43-b8d324868e3c",
   "metadata": {},
   "outputs": [
    {
     "name": "stdout",
     "output_type": "stream",
     "text": [
      "[{'name': 'sally', 'age': 17, 'grade': 'B'}, {'name': 'jane', 'age': 22, 'grade': 'A'}, {'name': 'dave', 'age': 32, 'grade': 'B'}]\n"
     ]
    }
   ],
   "source": [
    "from operator import itemgetter\n",
    "\n",
    "students = [\n",
    "    {\"name\": \"jane\", \"age\": 22, \"grade\": 'A'},\n",
    "    {\"name\": \"dave\", \"age\": 32, \"grade\": 'B'},\n",
    "    {\"name\": \"sally\", \"age\": 17, \"grade\": 'B'},\n",
    "]\n",
    "\n",
    "result = sorted(students, key=itemgetter('age'))\n",
    "print(result)"
   ]
  },
  {
   "cell_type": "markdown",
   "id": "e61ecdfc-e9f9-4710-984f-cb083f898a60",
   "metadata": {},
   "source": [
    "## operator.attrgetter\n",
    "\n",
    "- 리스트의 요소가 튜플이 아닌 클래스의 객체인 경우 attrgetter를 적용하여 sort"
   ]
  },
  {
   "cell_type": "code",
   "execution_count": 6,
   "id": "be96d4f6-6fce-4520-b5a7-121758f1e0c8",
   "metadata": {},
   "outputs": [],
   "source": [
    "from operator import attrgetter\n",
    "\n",
    "class Student:\n",
    "    def __init__(self, name, age, grade):\n",
    "        self.name = name\n",
    "        self.age = age\n",
    "        self.grade = grade\n",
    "\n",
    "\n",
    "students = [\n",
    "    Student('jane', 22, 'A'),\n",
    "    Student('dave', 32, 'B'),\n",
    "    Student('sally', 17, 'B'),\n",
    "]\n",
    "\n",
    "result = sorted(students, key=attrgetter('age'))"
   ]
  },
  {
   "cell_type": "code",
   "execution_count": 9,
   "id": "e85d1512-d5d9-4645-8a9b-ea97939a7c41",
   "metadata": {},
   "outputs": [
    {
     "data": {
      "text/plain": [
       "<__main__.Student at 0x7fe658204ac0>"
      ]
     },
     "execution_count": 9,
     "metadata": {},
     "output_type": "execute_result"
    }
   ],
   "source": []
  },
  {
   "cell_type": "code",
   "execution_count": null,
   "id": "6ef4daec-492f-4efe-892d-603d7de271f6",
   "metadata": {},
   "outputs": [],
   "source": []
  }
 ],
 "metadata": {
  "kernelspec": {
   "display_name": "Python 3",
   "language": "python",
   "name": "python3"
  },
  "language_info": {
   "codemirror_mode": {
    "name": "ipython",
    "version": 3
   },
   "file_extension": ".py",
   "mimetype": "text/x-python",
   "name": "python",
   "nbconvert_exporter": "python",
   "pygments_lexer": "ipython3",
   "version": "3.8.8"
  }
 },
 "nbformat": 4,
 "nbformat_minor": 5
}
